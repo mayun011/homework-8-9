{
 "cells": [
  {
   "cell_type": "markdown",
   "id": "09bad468",
   "metadata": {},
   "source": [
    "#\n",
    "homework\n",
    "1. 按照教程，下载安装nextclade命令行工具后，对“28seq_sequences.fasta”进行分析，理解各参数含义，对输出文件予以简要文字说明。\n",
    "2. 使用IQTREE工具，对“28seq_sequences.fasta”序列建树，并用ggtree的R包对输出的“.treefile”进行树的可视化，将数据与脚本上传至个人github库，做好实验纪录。\n",
    "3. 阅读首页综述，熟悉各网站。"
   ]
  },
  {
   "cell_type": "markdown",
   "id": "27911326",
   "metadata": {},
   "source": [
    "根据教程尝试过在windows里面通过canda安装失败，也尝试在win中下载安装包，打开后闪退，所以最后使用的是在线网页的形式。"
   ]
  },
  {
   "cell_type": "markdown",
   "id": "d8c21d7c",
   "metadata": {},
   "source": [
    "[nextclade网址](https://clades.nextstrain.org/)"
   ]
  },
  {
   "cell_type": "markdown",
   "id": "7f6467a1",
   "metadata": {},
   "source": [
    "将文件拖入网站处理，得到的结果如图："
   ]
  },
  {
   "cell_type": "markdown",
   "id": "25d0cc2c",
   "metadata": {},
   "source": [
    "![fig1](./C:\\Users\\20156\\Desktop\\homework\\homework-8-9\\网站运行截图.png)"
   ]
  },
  {
   "cell_type": "markdown",
   "id": "03e516d8",
   "metadata": {},
   "source": [
    "在网站上可以直接下载10个文档"
   ]
  },
  {
   "cell_type": "markdown",
   "id": "bc646b08",
   "metadata": {},
   "source": [
    "一.nextclade.json文件"
   ]
  },
  {
   "cell_type": "markdown",
   "id": "75db881e",
   "metadata": {},
   "source": [
    "  nextclade.json是一个包含病毒序列信息和分析结果的JSON文件。它的主要用途是提供有关病毒株的分析结果，以便研究者和医疗专业人员可以更好地了解病毒株的特征和演化情况。\n"
   ]
  },
  {
   "cell_type": "markdown",
   "id": "fa4c8ba2",
   "metadata": {},
   "source": [
    "二.nextclade.ndjson文件"
   ]
  },
  {
   "cell_type": "markdown",
   "id": "84a6c3ea",
   "metadata": {},
   "source": [
    "nextclade.ndjson文件中包含了Nextclade对输入的SARS-CoV-2序列进行分析后的结果。这些结果包括了序列的基因组注释，突变的位置和类型，以及其他与病毒变异相关的信息。其中每一行都是一个合法的JSON对象，并且每行之间由换行符进行分隔。这种格式的好处是可以逐行读取数据，更加高效地处理大规模数据。"
   ]
  },
  {
   "cell_type": "markdown",
   "id": "f7ba087a",
   "metadata": {},
   "source": [
    "三.nextclade.csv文件"
   ]
  },
  {
   "cell_type": "markdown",
   "id": "d8e329ce",
   "metadata": {},
   "source": [
    "nextclade.csv文件中包含了Nextclade对输入的SARS-CoV-2序列进行分析后的结果。这些结果包括了序列的基因组注释，突变的位置和类型，以及其他与病毒变异相关的信息。它们以一种表格的形式进行排列，方便查阅和分析。"
   ]
  },
  {
   "cell_type": "markdown",
   "id": "433e1b5b",
   "metadata": {},
   "source": [
    "四.nextclade.tsv文件"
   ]
  },
  {
   "cell_type": "markdown",
   "id": "ac3e6ce1",
   "metadata": {},
   "source": [
    "nextclade.tsv文件中包含了Nextclade对输入的SARS-CoV-2序列进行分析后的结果。这些结果包括了序列的基因组注释，突变的位置和类型，以及其他与病毒变异相关的信息。它们以一种表格的形式进行排列，方便查阅和分析。"
   ]
  },
  {
   "cell_type": "markdown",
   "id": "09cea649",
   "metadata": {},
   "source": [
    "五.nextclade.aligned.fasta文件"
   ]
  },
  {
   "cell_type": "markdown",
   "id": "9879a2e3",
   "metadata": {},
   "source": [
    "nextclade.aligned.fasta文件包含了经过Nextclade软件处理后的SARS-CoV-2基因组序列，该序列已经被校准和比对。"
   ]
  },
  {
   "cell_type": "markdown",
   "id": "19e90a9e",
   "metadata": {},
   "source": [
    "六.nextclade.auspice.json文件"
   ]
  },
  {
   "cell_type": "markdown",
   "id": "6e3642da",
   "metadata": {},
   "source": [
    "nextclade.auspice.json文件包含了SARS-CoV-2基因组序列的进化和变异信息，可以在Auspice平台中进行可视化呈现。这个文件可以提供详细的信息，比如SARS-CoV-2基因组序列的树状进化图、变异和突变的频率、分布等。基于这个文件，可以更容易地发现病毒的传播模式和演化路径，从而为疫情预测和控制提供重要的帮助。"
   ]
  },
  {
   "cell_type": "markdown",
   "id": "048cf93d",
   "metadata": {},
   "source": [
    "七.nextclade.peptides.fasta.zip文件"
   ]
  },
  {
   "cell_type": "markdown",
   "id": "49048471",
   "metadata": {},
   "source": [
    "nextclade.peptides.fasta.zip文件提供了SARS-CoV-2基因组序列的多肽序列信息，这些信息已经经过Nextclade软件进行处理和分析，并作为FASTA格式文件进行了打包压缩"
   ]
  },
  {
   "cell_type": "markdown",
   "id": "3f9899fc",
   "metadata": {},
   "source": [
    "八.nextclade.insertions.csv文件"
   ]
  },
  {
   "cell_type": "markdown",
   "id": "88cc9d2f",
   "metadata": {},
   "source": [
    "利用Nextclade软件分析SARS-CoV-2基因组序列可以直接识别出其中的插入事件，并将结果输出到nextclade.insertions.csv文件中。这个文件记录了基因组序列中所有的插入事件，包括插入的位置、长度、插入的具体序列、参考序列等信息。"
   ]
  },
  {
   "cell_type": "markdown",
   "id": "a8bbcd1a",
   "metadata": {},
   "source": [
    "九.nextclade.errors.csv文件"
   ]
  },
  {
   "cell_type": "markdown",
   "id": "2ee0e418",
   "metadata": {},
   "source": [
    "nextclade.errors.csv文件记录了每个出现错误和警告的基因组序列条目，包括错误或警告的类型、具体的描述信息和相关的基因组序列信息。"
   ]
  },
  {
   "cell_type": "markdown",
   "id": "0e667049",
   "metadata": {},
   "source": [
    "十.nextclade.zip"
   ]
  },
  {
   "cell_type": "markdown",
   "id": "bdf83af4",
   "metadata": {},
   "source": [
    "nextclade.zip是Nextclade软件的压缩文件，其中包含了运行该软件所需的所有文件和资源。这个压缩文件可以方便地将Nextclade软件传输、分享和部署到各个计算环境中。\n",
    "\n",
    "使用nextclade.zip可以将Nextclade软件快速部署到本地计算机或服务器上，以便进行SARS-CoV-2基因组序列的分析和解析。"
   ]
  },
  {
   "cell_type": "markdown",
   "id": "e774f4d4",
   "metadata": {},
   "source": [
    "然后用iqtree处理导出的文件"
   ]
  },
  {
   "cell_type": "markdown",
   "id": "a6aa2836",
   "metadata": {},
   "source": [
    "第一步：在文件夹中右键-在终端运行"
   ]
  },
  {
   "cell_type": "markdown",
   "id": "d9b8f499",
   "metadata": {},
   "source": [
    "然后再power shall里面进行指令操作"
   ]
  },
  {
   "cell_type": "code",
   "execution_count": null,
   "id": "1904d8ba",
   "metadata": {},
   "outputs": [],
   "source": [
    "ls\n",
    "iqtree -s nextclade.aligned.fasta"
   ]
  },
  {
   "cell_type": "markdown",
   "id": "eab2d07d",
   "metadata": {},
   "source": [
    "![运行截图](./C:\\Users\\20156\\Desktop\\homework\\homework-8-9\\powershall截图.png)"
   ]
  },
  {
   "cell_type": "markdown",
   "id": "27a5fc9f",
   "metadata": {},
   "source": [
    "得到很多新的文件，然后利用ggtree进行作图"
   ]
  },
  {
   "cell_type": "code",
   "execution_count": null,
   "id": "b8bf4299",
   "metadata": {},
   "outputs": [],
   "source": [
    "R:library(ggtree)\n",
    "tree <- read.tree(\"C:\\\\Users\\\\20156\\\\Desktop\\\\Nextstrain\\\\nextclade.aligned.fasta.treefile\")\n",
    "ggtree(tree) + geom_tiplab() + geom_point(color='firebrick')+ xlim(NA, 0.0035)"
   ]
  },
  {
   "cell_type": "markdown",
   "id": "eff4b58d",
   "metadata": {},
   "source": [
    "得到最终的图像："
   ]
  },
  {
   "cell_type": "markdown",
   "id": "232125b5",
   "metadata": {},
   "source": [
    "![pig3](./C:\\Users\\20156\\Desktop\\homework\\homework-8-9\\最终树状图.png)"
   ]
  },
  {
   "cell_type": "markdown",
   "id": "8b3f39ff",
   "metadata": {},
   "source": [
    "自此，实验结束"
   ]
  }
 ],
 "metadata": {
  "kernelspec": {
   "display_name": "Python 3 (ipykernel)",
   "language": "python",
   "name": "python3"
  },
  "language_info": {
   "codemirror_mode": {
    "name": "ipython",
    "version": 3
   },
   "file_extension": ".py",
   "mimetype": "text/x-python",
   "name": "python",
   "nbconvert_exporter": "python",
   "pygments_lexer": "ipython3",
   "version": "3.11.3"
  }
 },
 "nbformat": 4,
 "nbformat_minor": 5
}
